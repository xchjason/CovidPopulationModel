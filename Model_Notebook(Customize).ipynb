{
  "cells": [
    {
      "cell_type": "markdown",
      "metadata": {
        "id": "view-in-github",
        "colab_type": "text"
      },
      "source": [
        "<a href=\"https://colab.research.google.com/github/xchjason/CovidPopulationModel/blob/rho_proj/Model_Notebook(Customize).ipynb\" target=\"_parent\"><img src=\"https://colab.research.google.com/assets/colab-badge.svg\" alt=\"Open In Colab\"/></a>"
      ]
    },
    {
      "cell_type": "markdown",
      "metadata": {
        "id": "RCdZkGTEuZqJ"
      },
      "source": [
        "#Bayesian COVID Population Model\n",
        "fill in yellow values in designated Google Sheet for this model -> run this notebook in order -> give authorizations for Google Drive and Google Sheet when required -> wait for results (plot generated in this notebook, actual values updated in Google Sheet"
      ],
      "id": "RCdZkGTEuZqJ"
    },
    {
      "cell_type": "markdown",
      "metadata": {
        "id": "indonesian-chapter"
      },
      "source": [
        "## Mount Your Google Drive \n",
        "connect your Google Drive to this Google Colab notebook through your authorization."
      ],
      "id": "indonesian-chapter"
    },
    {
      "cell_type": "code",
      "execution_count": null,
      "metadata": {
        "id": "stainless-fifteen",
        "colab": {
          "base_uri": "https://localhost:8080/"
        },
        "outputId": "82306b78-c1a6-467e-d499-cec45a71ba0c"
      },
      "outputs": [
        {
          "output_type": "stream",
          "name": "stdout",
          "text": [
            "Drive already mounted at /content/drive/; to attempt to forcibly remount, call drive.mount(\"/content/drive/\", force_remount=True).\n"
          ]
        }
      ],
      "source": [
        "from google.colab import drive\n",
        "drive.mount('/content/drive/')"
      ],
      "id": "stainless-fifteen"
    },
    {
      "cell_type": "markdown",
      "metadata": {
        "id": "gayQXCDURGHr"
      },
      "source": [
        "## Go to Your Model Directory\n",
        "make sure to select the folder in your Google Drive that contains all the model/data files. The user should edit the path after 'cd'. Usually, it is cd /content/drive/MyDrive/theNameofYourDirectory if you put your directory directly on your Google Drive instead of inside of another directory on your Google Drive."
      ],
      "id": "gayQXCDURGHr"
    },
    {
      "cell_type": "code",
      "execution_count": null,
      "metadata": {
        "id": "RmJbyKGZlDon",
        "colab": {
          "base_uri": "https://localhost:8080/"
        },
        "outputId": "217f767f-00e3-427b-cc35-dafd998f1947"
      },
      "outputs": [
        {
          "output_type": "stream",
          "name": "stdout",
          "text": [
            "/content/drive/MyDrive/BayesianCovidPopulationModel\n"
          ]
        }
      ],
      "source": [
        "cd /content/drive/MyDrive/BayesianCovidPopulationModel"
      ],
      "id": "RmJbyKGZlDon"
    },
    {
      "cell_type": "markdown",
      "metadata": {
        "id": "QYUBGWypRWZ2"
      },
      "source": [
        "## Import Modules\n",
        "load in the necessary model files into this Google Colab notebook"
      ],
      "id": "QYUBGWypRWZ2"
    },
    {
      "cell_type": "code",
      "execution_count": null,
      "metadata": {
        "id": "aboriginal-general"
      },
      "outputs": [],
      "source": [
        "from model import CovidModel, LogPoissonProb, get_logging_callbacks, Comp, Vax\n",
        "from data import read_data, create_warmup\n",
        "from sheet import *\n",
        "from convert import *"
      ],
      "id": "aboriginal-general"
    },
    {
      "cell_type": "markdown",
      "metadata": {
        "id": "wAyeJ3oD890V"
      },
      "source": [
        "## Read in the Google Sheet Link\n",
        "this link will be used later"
      ],
      "id": "wAyeJ3oD890V"
    },
    {
      "cell_type": "code",
      "execution_count": null,
      "metadata": {
        "id": "wBGmt_i47vTz",
        "colab": {
          "base_uri": "https://localhost:8080/"
        },
        "outputId": "c87e1856-a9a3-4164-d1a5-89842066f8f8"
      },
      "outputs": [
        {
          "name": "stdout",
          "output_type": "stream",
          "text": [
            "Enter Your Google Sheet Link:  https://docs.google.com/spreadsheets/d/1Yj1aTiNa_ZFFbMH1IcuFYK5c774kK_vXzsu9sbxeS2A/edit#gid=0\n"
          ]
        }
      ],
      "source": [
        "link = read_sheet_link() "
      ],
      "id": "wBGmt_i47vTz"
    },
    {
      "cell_type": "markdown",
      "metadata": {
        "id": "rlVt8Zezmtvs"
      },
      "source": [
        "## Load Default Data\n",
        "load in default data of Rt and Vaccination Rate to Google Sheet. The user can change the Rt and Vaccination Rate before running the model. If the user wants to switch back to the default values, re-run this cell."
      ],
      "id": "rlVt8Zezmtvs"
    },
    {
      "cell_type": "code",
      "execution_count": null,
      "metadata": {
        "id": "MjiM6TvyZj0m",
        "colab": {
          "base_uri": "https://localhost:8080/"
        },
        "outputId": "d65061e3-4c05-49a9-9d40-3bb405320883"
      },
      "outputs": [
        {
          "output_type": "stream",
          "name": "stdout",
          "text": [
            "Successfully load in the default data. Check the specfics in GoogleSheet\n"
          ]
        }
      ],
      "source": [
        "load_default_data(link)"
      ],
      "id": "MjiM6TvyZj0m"
    },
    {
      "cell_type": "markdown",
      "source": [
        "##Import All Parameters to Spreadsheet\n",
        "import all parameters in model_config.json file from our data warehouse to spreadsheet"
      ],
      "metadata": {
        "id": "1c5mZduylG6w"
      },
      "id": "1c5mZduylG6w"
    },
    {
      "cell_type": "code",
      "source": [
        "json_to_spreadsheet(link, \"model_config.json\")"
      ],
      "metadata": {
        "id": "uEus-A1ClJwa"
      },
      "id": "uEus-A1ClJwa",
      "execution_count": null,
      "outputs": []
    },
    {
      "cell_type": "markdown",
      "source": [
        "## Update AllParam (OPTIONAL!)\n",
        "After users change values in the user interface sheet (Durations(Vax), Durations(Unvax), Transitions), users need to run this cell to update AllParam to make sure all corresponding values are in sync."
      ],
      "metadata": {
        "id": "2pjeWXWSfjWc"
      },
      "id": "2pjeWXWSfjWc"
    },
    {
      "cell_type": "code",
      "source": [
        "update_allparam(link)"
      ],
      "metadata": {
        "colab": {
          "base_uri": "https://localhost:8080/"
        },
        "id": "qNJPlTU3oLZH",
        "outputId": "de396aeb-8050-408b-93b7-6bf12bd95a11"
      },
      "execution_count": null,
      "outputs": [
        {
          "output_type": "stream",
          "name": "stdout",
          "text": [
            "AllParam has been updated --> ready for spreadsheet_to_json\n"
          ]
        }
      ],
      "id": "qNJPlTU3oLZH"
    },
    {
      "cell_type": "markdown",
      "source": [
        "##Update Learned Parameters\n",
        "after modifying parameters in Google Sheet, user can generate new json file to make new projection"
      ],
      "metadata": {
        "id": "ifA49UjmNqOf"
      },
      "id": "ifA49UjmNqOf"
    },
    {
      "cell_type": "code",
      "source": [
        "spreadsheet_to_json(link)"
      ],
      "metadata": {
        "id": "BS8cxa5K-s4s"
      },
      "id": "BS8cxa5K-s4s",
      "execution_count": null,
      "outputs": []
    },
    {
      "cell_type": "markdown",
      "source": [
        "##Project with Customizaed Ratio\n",
        "users can enter the ratio themselves in the Setting sheet and project with their own ratios"
      ],
      "metadata": {
        "id": "6XPzi130VAC-"
      },
      "id": "6XPzi130VAC-"
    },
    {
      "cell_type": "code",
      "source": [
        "customized_model = customized_test(link)"
      ],
      "metadata": {
        "id": "oPJtEvcETiN6"
      },
      "id": "oPJtEvcETiN6",
      "execution_count": null,
      "outputs": []
    }
  ],
  "metadata": {
    "colab": {
      "collapsed_sections": [],
      "name": "Model_Notebook (Customize).ipynb",
      "provenance": [],
      "include_colab_link": true
    },
    "kernelspec": {
      "display_name": "Python 3 (ipykernel)",
      "language": "python",
      "name": "python3"
    },
    "language_info": {
      "codemirror_mode": {
        "name": "ipython",
        "version": 3
      },
      "file_extension": ".py",
      "mimetype": "text/x-python",
      "name": "python",
      "nbconvert_exporter": "python",
      "pygments_lexer": "ipython3",
      "version": "3.7.11"
    }
  },
  "nbformat": 4,
  "nbformat_minor": 5
}